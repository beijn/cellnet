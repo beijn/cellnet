{
 "cells": [
  {
   "cell_type": "markdown",
   "id": "9f731af0",
   "metadata": {},
   "source": [
    "# CellNet"
   ]
  },
  {
   "cell_type": "code",
   "execution_count": 1,
   "id": "9117104b",
   "metadata": {
    "execution": {
     "iopub.execute_input": "2024-07-25T07:56:44.094675Z",
     "iopub.status.busy": "2024-07-25T07:56:44.094444Z",
     "iopub.status.idle": "2024-07-25T07:56:49.598549Z",
     "shell.execute_reply": "2024-07-25T07:56:49.598035Z"
    },
    "title": "# Config and Imports"
   },
   "outputs": [
    {
     "name": "stderr",
     "output_type": "stream",
     "text": [
      "INFO:albumentations.check_version:A new version of Albumentations is available: 1.4.11 (you have 1.4.7). Upgrade using: pip install --upgrade albumentations\n"
     ]
    },
    {
     "name": "stdout",
     "output_type": "stream",
     "text": [
      "device = cuda:0\n"
     ]
    }
   ],
   "source": [
    "\n",
    "# after experiment successful, summarize findings in respective ipynb and integrate into defaults\n",
    "experiments = dict(\n",
    "  default =     ('default', True), \n",
    "  draft =       ('epochs', 2),\n",
    "  \n",
    "  release1 =    ('release1', True),\n",
    "  release1n =    ('release1n', True),\n",
    "  release2 =    ('release2', True),\n",
    "  release2n =    ('release2n', True),\n",
    "  release3 =    ('release3', True),\n",
    "  release3n =    ('release3n', True),\n",
    "  release4 =    ('release4', True),\n",
    "  release4n =    ('release4n', True),\n",
    "\n",
    "  architecture = ('model_architecture', ['smp.Unet', 'smp.Unet:attention', 'smp.UnetPlusPlus']),  # NOTE: 'smp.Unet:deeper' fails, likely due to a bug in smp :[\n",
    "  encoder_all =     ('model_encoder', ['resnet34', 'resnext50_32x4d', 'timm-resnest50d', 'timm-res2net50_26w_4s', 'timm-regnetx_064', 'timm-gernet_l', 'se_resnext50_32x4d', 'timm-skresnext50_32x4d', 'densenet161', 'xception', 'timm-efficientnet-b5', 'timm-mobilenetv3_large_100', 'dpn68b', 'vgg19_bn', 'mit_b2', 'mobileone_s4']),\n",
    "  encoder_adaptedbestsmall =     ('model_encoder', ['resnet152', 'resnet34', 'timm-efficientnet-b5', 'timm-mobilenetv3_large_100', 'timm-resnest50d', 'xception', 'vgg19_bn']),\n",
    "  encoder_big = ('model_encoder', ['resnet152', 'timm-efficientnet-l2', 'timm-efficientnet-b8', 'timm-mobilenetv3_large_100', 'timm-resnest200e', 'timm-resnest269e', 'inceptionresnetv2', 'inceptionv4', 'xception', 'vgg19_bn']),\n",
    "  xnorm_per_channel = ('xnorm_type', 'image_per_channel'),\n",
    "##  rmbad =       ('rmbad', 0.1), ## DECRAP?\n",
    "  loss =        ('lossf', ['MSE','BCE', 'MSE+BCE']), # 'KLD', 'MSE+BCE+KLD', 'Focal', 'MCC', 'Dice' Focal and MCC are erroneous (maybe logits vs probs). Dice is bad.  TODO Be inspired by arxiv:1907.02336\n",
    "  # TODO: if linearcomb is better, then grid search weight\n",
    "  sigma =       ('sigma', [3.0, 3.5, 4.0, 4.5, 5.0, 5.5, 6.0, 6.5, 7.0]),\n",
    "  fraction =    ('fraction', [0.1, 0.25, 0.5, 0.75, 0.875, 1.0]),\n",
    "  sparsity =    ('sparsity', [0.1, 0.25, 0.5, 0.75, 0.875, 1.0]),\n",
    ")\n",
    "\n",
    "from json import decoder\n",
    "from cellnet import data\n",
    "import pandas as pd\n",
    "\n",
    "data_quality = pd.read_csv('data/data_quality.csv', sep=r'\\s+', index_col=0)\n",
    "\n",
    "image_paths = [i for i in data.ls('data/images') if data_quality.loc[data.imgid(i), 'annotation_status'] in ('fully', 'sparse', 'empty')]\n",
    "crossval_vals = '1 | 2 | QS_7510'# | QS_7415' # NOTE that with the empty image the accuracy formula breaks\n",
    "\n",
    "\n",
    "import os, torch, json\n",
    "from types import SimpleNamespace as obj\n",
    "\n",
    "EXPERIMENT = os.getenv('EXPERIMENT', 'default')\n",
    "CUDA = torch.cuda.is_available()\n",
    "device = torch.device('cuda:0' if CUDA else 'cpu'); print('device =', device)\n",
    "\n",
    "P, ps = experiments[EXPERIMENT]\n",
    "\n",
    "modes = ['release', 'crossval', 'draft']\n",
    "MODE = os.getenv('RELEASE_MODE', 'draft')\n",
    "if MODE not in modes: MODE = 'crossval' \n",
    "# MODE undefined => interactive execution with draft; uknown custom tag defaults to crossval\n",
    "\n",
    "\n",
    "if   MODE=='draft': data_splits = [(['data/images/1.jpg'], ['data/images/4.jpg'])]\n",
    "elif MODE=='release': data_splits = [(image_paths, [])]\n",
    "else: #MODE=='crossval': \n",
    "  crossval_vals = [s.split(' ') for s in crossval_vals.split(' | ')]\n",
    "  data_splits = [([p for p in image_paths if data.imgid(p) not in vs], \n",
    "                  [p for p in image_paths if data.imgid(p)     in vs]) \n",
    "                  for vs in crossval_vals]\n",
    "  \n",
    "\n",
    "CFG = obj(**(dict(\n",
    "  EXPERIMENT=EXPERIMENT,\n",
    "  cropsize=256,\n",
    "  batch_size=16,\n",
    "  data_splits=data_splits,\n",
    "  device=f'{device}',\n",
    "  epochs=351,\n",
    "  fraction=1, \n",
    "  image_paths=image_paths,\n",
    "  lossf='MSE+BCE',\n",
    "  lr_gamma=0.1,\n",
    "  lr_steps=2.5,\n",
    "  maxdist=26, \n",
    "  MODE=MODE,\n",
    "  model_architecture='smp.UnetPlusPlus:attention',\n",
    "  model_encoder='timm-mobilenetv3_large_100',\n",
    "  param=P,\n",
    "  rmbad=0,\n",
    "  sigma=5.0,  # NOTE: do grid search again later when better convergence \n",
    "  sparsity=1,\n",
    "  xnorm_params={},\n",
    "  xnorm_type='imagenet',  # TODO: check 'image_per_channel' as well\n",
    "  ) | {P: ps[-1] if type(ps) is list else ps}))\n",
    "\n",
    "# NOTE quick hacks\n",
    "if MODE=='release': \n",
    "  CFG.epochs=501\n",
    "\n",
    "match EXPERIMENT:\n",
    "  case 'release1':\n",
    "    CFG.model_encoder = 'timm-mobilenetv3_large_100'\n",
    "\n",
    "  case 'release1n':\n",
    "    CFG.model_encoder = 'timm-mobilenetv3_large_100'\n",
    "    CFG.xnorm_type = 'image_per_channel'\n",
    "\n",
    "  case 'release2':\n",
    "    CFG.model_encoder = 'timm-efficientnet-l2'\n",
    "    CFG.cropsize = 256\n",
    "\n",
    "  case 'release2n':\n",
    "    CFG.model_encoder = 'timm-efficientnet-l2'\n",
    "    CFG.xnorm_type = 'image_per_channel'\n",
    "    CFG.cropsize = 256\n",
    "\n",
    "  case 'release3':\n",
    "    CFG.model_encoder = 'timm-efficientnet-b8'\n",
    "  \n",
    "  case 'release3n':\n",
    "    CFG.model_encoder = 'timm-efficientnet-b8'\n",
    "    CFG.xnorm_type = 'image_per_channel'\n",
    "\n",
    "\n",
    "if 'draft' in CFG.__dict__ and CFG.draft is True: \n",
    "  CFG.epochs = 2\n",
    "  #CFG.model_architecture = 'UNet'\n",
    "  #CFG.model_encoder = 'resnet34'\n",
    "\n",
    "import torch\n",
    "import matplotlib.pyplot as plt\n",
    "import numpy as np, pandas as pd\n",
    "\n",
    "import albumentations as A; from albumentations.pytorch import ToTensorV2\n",
    "\n",
    "import os, json\n",
    "from types import SimpleNamespace as obj\n",
    "from statistics import mean, stdev\n",
    "\n",
    "from cellnet.data import *\n",
    "import cellnet.plot as plot\n",
    "import cellnet.debug as debug\n",
    "from cellnet.data import key2text\n",
    "\n",
    "# save the config to disk\n",
    "with open('cfg.json', 'w') as f:  f.write(json.dumps(CFG.__dict__, indent=2))"
   ]
  },
  {
   "cell_type": "code",
   "execution_count": 2,
   "id": "006aa19f",
   "metadata": {
    "execution": {
     "iopub.execute_input": "2024-07-25T07:56:49.600877Z",
     "iopub.status.busy": "2024-07-25T07:56:49.600609Z",
     "iopub.status.idle": "2024-07-25T07:56:51.785948Z",
     "shell.execute_reply": "2024-07-25T07:56:51.785444Z"
    },
    "title": "# Load Data"
   },
   "outputs": [],
   "source": [
    "\n",
    "XNorm, CFG.xnorm_params = mk_XNorm(CFG, image_paths)\n",
    "\n",
    "def mkAugs(mode):\n",
    "  C = CFG.cropsize\n",
    "  T = lambda ts:  A.Compose(transforms=[\n",
    "    A.PadIfNeeded(C,C, border_mode=0, value=0),\n",
    "    *ts,\n",
    "    XNorm(), \n",
    "    A.PadIfNeeded(C,C, border_mode=0, value=0),\n",
    "    ToTensorV2(transpose_mask=True, always_apply=True)], \n",
    "    keypoint_params=A.KeypointParams(format='xy', label_fields=['class_labels'], remove_invisible=True) \n",
    "  )\n",
    "\n",
    "  vals = [A.D4(),\n",
    "          ]\n",
    "\n",
    "  return dict(\n",
    "    test  = T([]),\n",
    "    val   = T([A.RandomCrop(C,C, p=1),\n",
    "               *vals]),\n",
    "    train = T([A.RandomCrop(C,C, p=1),\n",
    "               A.RandomBrightnessContrast(p=1, brightness_limit=0.25, contrast_limit=0.25),\n",
    "               #A.RandomSizedCrop(p=1, min_max_height=(CROPSIZE//2, CROPSIZE*2), height=CROPSIZE, width=CROPSIZE),  # NOTE: issue with resize is that the keypoint sizes will not be updated\n",
    "               #A.Rotate(),\n",
    "               #A.AdvancedBlur(),\n",
    "               #A.Equalize(),\n",
    "               #A.ColorJitter(), \n",
    "               #A.GaussNoise(),\n",
    "               *vals])\n",
    "  )[mode]"
   ]
  },
  {
   "cell_type": "code",
   "execution_count": 3,
   "id": "2f181955",
   "metadata": {
    "execution": {
     "iopub.execute_input": "2024-07-25T07:56:51.788482Z",
     "iopub.status.busy": "2024-07-25T07:56:51.788214Z",
     "iopub.status.idle": "2024-07-25T07:56:51.792766Z",
     "shell.execute_reply": "2024-07-25T07:56:51.792357Z"
    },
    "title": "# Plot data"
   },
   "outputs": [],
   "source": [
    "if MODE=='draft' and not CUDA: \n",
    "  kp2hm, yunnorm, _ = mk_kp2mh_yunnorm(CFG)\n",
    "\n",
    "  from math import prod\n",
    "  def plot_grid(grid, **loader_kwargs):\n",
    "    loader = mk_loader([CFG.image_paths[0]], cfg=CFG, bs=prod(grid), **loader_kwargs)\n",
    "    B = next(iter(loader))\n",
    "    B = batch2cpu(B, z=kp2hm(B))\n",
    "    for b,ax in zip(B, plot.grid(grid, ([CFG.cropsize]*2))[1]):\n",
    "      plot.overlay(b.x, b.z, b.m, b.k, b.l, CFG.sigma, ax=ax)\n",
    "\n",
    "  plot_grid((3,3), transforms=mkAugs('val'))\n",
    "  plot_grid((3,3), transforms=mkAugs('train'))\n",
    "\n",
    "  for B in mk_loader(CFG.image_paths, cfg=CFG, bs=1, transforms=mkAugs('test'), shuffle=False):\n",
    "    b = batch2cpu(B, z=kp2hm(B))[0]\n",
    "    ax = plot.overlay(b.x, b.z, b.m, b.k, b.l, CFG.sigma)"
   ]
  },
  {
   "cell_type": "code",
   "execution_count": 4,
   "id": "d4c5db63",
   "metadata": {
    "execution": {
     "iopub.execute_input": "2024-07-25T07:56:51.794821Z",
     "iopub.status.busy": "2024-07-25T07:56:51.794492Z",
     "iopub.status.idle": "2024-07-25T07:56:51.798590Z",
     "shell.execute_reply": "2024-07-25T07:56:51.798212Z"
    },
    "lines_to_next_cell": 1,
    "title": "# Create model"
   },
   "outputs": [],
   "source": [
    "plt.close('all')\n",
    "\n",
    "import segmentation_models_pytorch as smp\n",
    "\n",
    "mk_mk_model_smp = lambda cls, encoder_depth=5, **args: lambda cfg: cls(\n",
    "  encoder_name=cfg.model_encoder, \n",
    "  encoder_weights=None,\n",
    "  in_channels=3,\n",
    "  classes=1,\n",
    "  activation='sigmoid',\n",
    "  encoder_depth=encoder_depth,\n",
    "  decoder_channels=[16*2**d for d in range(encoder_depth)],\n",
    "  **args\n",
    ").to(device)\n",
    "\n",
    "mk_model = lambda c: {\n",
    "  'smp.Unet': mk_mk_model_smp(smp.Unet),\n",
    "  'smp.Unet:attention': mk_mk_model_smp(smp.Unet, decoder_attention_type='scse'),\n",
    "  'smp.Unet:deeper': mk_mk_model_smp(smp.Unet, encoder_depth=6),\n",
    "  'smp.UnetPlusPlus': mk_mk_model_smp(smp.UnetPlusPlus),\n",
    "  'smp.UnetPlusPlus:attention': mk_mk_model_smp(smp.UnetPlusPlus, decoder_attention_type='scse'),\n",
    "}[c.model_architecture]"
   ]
  },
  {
   "cell_type": "code",
   "execution_count": 5,
   "id": "ae9d88ce",
   "metadata": {
    "execution": {
     "iopub.execute_input": "2024-07-25T07:56:51.800733Z",
     "iopub.status.busy": "2024-07-25T07:56:51.800495Z",
     "iopub.status.idle": "2024-07-25T08:11:11.391007Z",
     "shell.execute_reply": "2024-07-25T08:11:11.390356Z"
    },
    "title": "# Train"
   },
   "outputs": [
    {
     "name": "stdout",
     "output_type": "stream",
     "text": [
      "INFO: Because data/images/QS_7510.jpg is fully annotated or purposefully empty, fgmask is set to 1\n",
      "INFO: Because data/images/QS_7508.jpg is fully annotated or purposefully empty, fgmask is set to 1\n",
      "INFO: Because data/images/QS_7415.jpg is fully annotated or purposefully empty, fgmask is set to 1\n",
      "INFO: Because data/images/QS_7506.jpg is fully annotated or purposefully empty, fgmask is set to 1\n"
     ]
    },
    {
     "name": "stdout",
     "output_type": "stream",
     "text": [
      "INFO: Because data/images/QS_7415.jpg is fully annotated or purposefully empty, fgmask is set to 1\n",
      "INFO: Because data/images/QS_7506.jpg is fully annotated or purposefully empty, fgmask is set to 1\n",
      "INFO: Because data/images/QS_7508.jpg is fully annotated or purposefully empty, fgmask is set to 1\n",
      "INFO: Because data/images/QS_7510.jpg is fully annotated or purposefully empty, fgmask is set to 1\n"
     ]
    },
    {
     "name": "stdout",
     "output_type": "stream",
     "text": [
      "Training Loss\n",
      "vi: . Epoch: 501, release2n: True\n"
     ]
    },
    {
     "data": {
      "image/png": "[encoded data removed]",
      "text/plain": [
       "<Figure size 1000x750 with 1 Axes>"
      ]
     },
     "metadata": {},
     "output_type": "display_data"
    },
    {
     "name": "stderr",
     "output_type": "stream",
     "text": [
      "/gpfs/space/home/eckhardt/cellnet/results/train/240725-105455-release2n-release-RUNNING/cellnet/plot.py:105: UserWarning: This figure includes Axes that are not compatible with tight_layout, so results might be incorrect.\n",
      "  ax.figure.savefig(path, transparent=transparent, pil_kwargs=dict(compress_level=9))\n"
     ]
    },
    {
     "name": "stderr",
     "output_type": "stream",
     "text": [
      "/gpfs/space/home/eckhardt/cellnet/results/train/240725-105455-release2n-release-RUNNING/cellnet/plot.py:105: UserWarning: This figure includes Axes that are not compatible with tight_layout, so results might be incorrect.\n",
      "  ax.figure.savefig(path, transparent=transparent, pil_kwargs=dict(compress_level=9))\n"
     ]
    },
    {
     "name": "stderr",
     "output_type": "stream",
     "text": [
      "/gpfs/space/home/eckhardt/cellnet/results/train/240725-105455-release2n-release-RUNNING/cellnet/plot.py:105: UserWarning: This figure includes Axes that are not compatible with tight_layout, so results might be incorrect.\n",
      "  ax.figure.savefig(path, transparent=transparent, pil_kwargs=dict(compress_level=9))\n"
     ]
    },
    {
     "name": "stdout",
     "output_type": "stream",
     "text": [
      "INFO: Because data/images/QS_7415.jpg is fully annotated or purposefully empty, fgmask is set to 1\n"
     ]
    },
    {
     "name": "stderr",
     "output_type": "stream",
     "text": [
      "/gpfs/space/home/eckhardt/cellnet/results/train/240725-105455-release2n-release-RUNNING/cellnet/plot.py:105: UserWarning: This figure includes Axes that are not compatible with tight_layout, so results might be incorrect.\n",
      "  ax.figure.savefig(path, transparent=transparent, pil_kwargs=dict(compress_level=9))\n"
     ]
    },
    {
     "name": "stdout",
     "output_type": "stream",
     "text": [
      "INFO: Because data/images/QS_7506.jpg is fully annotated or purposefully empty, fgmask is set to 1\n"
     ]
    },
    {
     "name": "stderr",
     "output_type": "stream",
     "text": [
      "/gpfs/space/home/eckhardt/cellnet/results/train/240725-105455-release2n-release-RUNNING/cellnet/plot.py:105: UserWarning: This figure includes Axes that are not compatible with tight_layout, so results might be incorrect.\n",
      "  ax.figure.savefig(path, transparent=transparent, pil_kwargs=dict(compress_level=9))\n"
     ]
    },
    {
     "name": "stdout",
     "output_type": "stream",
     "text": [
      "INFO: Because data/images/QS_7508.jpg is fully annotated or purposefully empty, fgmask is set to 1\n"
     ]
    },
    {
     "name": "stderr",
     "output_type": "stream",
     "text": [
      "/gpfs/space/home/eckhardt/cellnet/results/train/240725-105455-release2n-release-RUNNING/cellnet/plot.py:105: UserWarning: This figure includes Axes that are not compatible with tight_layout, so results might be incorrect.\n",
      "  ax.figure.savefig(path, transparent=transparent, pil_kwargs=dict(compress_level=9))\n"
     ]
    },
    {
     "name": "stdout",
     "output_type": "stream",
     "text": [
      "INFO: Because data/images/QS_7510.jpg is fully annotated or purposefully empty, fgmask is set to 1\n"
     ]
    },
    {
     "name": "stderr",
     "output_type": "stream",
     "text": [
      "/gpfs/space/home/eckhardt/cellnet/results/train/240725-105455-release2n-release-RUNNING/cellnet/plot.py:105: UserWarning: This figure includes Axes that are not compatible with tight_layout, so results might be incorrect.\n",
      "  ax.figure.savefig(path, transparent=transparent, pil_kwargs=dict(compress_level=9))\n"
     ]
    }
   ],
   "source": [
    "\n",
    "# def count(y): return yunnorm(y).sum().item()\n",
    "def accuracy(y,z): \n",
    "  ny, nz = y.sum().item(), z.sum().item()\n",
    "  return 1 - abs(ny - nz) / (nz+1e-9)\n",
    "\n",
    "def epoch(model, kp2hm, lossf, dl, optim=None):\n",
    "  l = 0; a = 0; b = 0\n",
    "  for B in dl:\n",
    "    x,m = B['image'].to(device), B['masks'][0].to(device)\n",
    "    z = kp2hm(B).to(device)\n",
    "\n",
    "    y = model(x)\n",
    "    loss = lossf(y*m, z*m) \n",
    "    l += loss.item()\n",
    "    a += accuracy(y*m, z*m)\n",
    "    b += 1\n",
    "\n",
    "    if optim is not None:\n",
    "      loss.backward()\n",
    "      optim.step()\n",
    "      optim.zero_grad()\n",
    "\n",
    "  return l/b, a/b\n",
    "\n",
    "\n",
    "results = pd.DataFrame()\n",
    "if not MODE=='draft': [os.makedirs(_p, exist_ok=True) for _p in ('preds', 'plots')]\n",
    "\n",
    "def training_run(cfg, traindl, valdl, kp2hm, model):\n",
    "  global results  \n",
    "  p = cfg.__dict__[P]\n",
    "  ti = cfg.ti; vi = cfg.vi\n",
    "\n",
    "  optim = torch.optim.Adam(model.parameters(), lr=5e-3)\n",
    "  sched = torch.optim.lr_scheduler.StepLR(optim, step_size=int(cfg.epochs/cfg.lr_steps)+1, gamma=cfg.lr_gamma)\n",
    "  losses = dict(\n",
    "    MSE = torch.nn.MSELoss(),\n",
    "    BCE = torch.nn.BCELoss(),\n",
    "    Focal = smp.losses.FocalLoss('binary'),\n",
    "    MCC = smp.losses.MCCLoss(),\n",
    "    Dice = smp.losses.DiceLoss('binary', from_logits=False),\n",
    "    KLD = torch.nn.KLDivLoss(reduction='batchmean'),  \n",
    "  )\n",
    "  lossfs = [losses[l] for l in cfg.lossf.split('+')]\n",
    "  lossf = lambda y,z: sum([lf(y,z) for lf in lossfs])\n",
    "\n",
    "  log = pd.DataFrame(columns='tl vl ta va lr'.split(' '), index=range(cfg.epochs))\n",
    "  \n",
    "  for e in range(cfg.epochs):\n",
    "    log.loc[e,'lr'] = optim.param_groups[0]['lr']\n",
    "  \n",
    "    model.train()\n",
    "    log.loc[e,'tl'], log.loc[e,'ta'] = epoch(model, kp2hm, lossf, traindl, optim)\n",
    "    sched.step() \n",
    "  \n",
    "    if valdl is not None: \n",
    "      model.eval()\n",
    "      with torch.no_grad():\n",
    "        log.loc[e,'vl'], log.loc[e,'va'] = epoch(model, kp2hm, lossf, valdl) \n",
    "\n",
    "    if MODE=='draft': plot.train_graph(e, log, info={P: p}, key2text=key2text, clear=True)\n",
    "  plot.train_graph(cfg.epochs, log, info={P: p}, key2text=key2text, accuracy=False) \n",
    "\n",
    "  row = dict(**{P: p}, ti=ti, vi=vi, **log.iloc[-1])\n",
    "\n",
    "  # compute loss distributions for a few batches \n",
    "  # NOTE DUPLICATE COMPUTATIOM is very inefficient since we already do it once batch_size times, which should suffice.. now again n_batches*batch_size times..\n",
    "  @debug.timeit\n",
    "  def evaluate_performance():\n",
    "    tvla = 'tl vl ta va'.split(' ')\n",
    "    model.eval()\n",
    "    # edit last row of results\n",
    "    for k in tvla: row[k] = []  # type: ignore\n",
    "    for b in range(n_batches := 10): \n",
    "      tl, ta = epoch(model, kp2hm, lossf, traindl)\n",
    "      vl, va = epoch(model, kp2hm, lossf, valdl) if valdl is not None else (float('nan'), float('nan'))\n",
    "      for k,v in zip(tvla, [tl, vl, ta, va]): row[k].append(v) # type: ignore\n",
    "\n",
    "    for k in tvla: \n",
    "      row[k+'_mean'] = np.array(row[k]).mean() # type: ignore\n",
    "      row[k+'_std'] = np.array(row[k]).std() # type: ignore\n",
    "  if MODE != 'draft': evaluate_performance()\n",
    "\n",
    "  results = pd.DataFrame([row]) if results.empty else pd.concat([results, pd.DataFrame([row])], ignore_index=True)\n",
    "\n",
    "  # DECRAP rmbad?\n",
    "  @debug.timeit\n",
    "  def loss_per_point_per_image():\n",
    "    i2p2L = {}\n",
    "    for i in vi: # only save the point losses for the validation image \n",
    "      B = next(iter(mk_loader([i], bs=1, transforms=mkAugs('test'), shuffle=False, cfg=cfg)))\n",
    "      model.eval()\n",
    "      with torch.no_grad(): y = cpu(model(B['image'].to(device)))\n",
    "      B = batch2cpu(B, z=kp2hm(B), y=y)[0]\n",
    "      i2p2L[i] = data.loss_per_point(B, lossf, kernel=15, exclude=[2])\n",
    "      #np.save(f'p2L-{imgid(i)}.npy', p2L)  # DEBUG dump p2L to disk for later analysis\n",
    "      #print(f'DEBUG: saved point losses for val image {i} (should happen only once per cfg and image)')\n",
    "    return i2p2L\n",
    "  i2p2L = loss_per_point_per_image() if 'rmbad' in cfg.__dict__ and cfg.rmbad != 0 else {}\n",
    "  \n",
    "  # NOTE DUPLICATE COMPUTATIOM partial overlap with evaluate_performance\n",
    "  @debug.timeit\n",
    "  def plot_preds():\n",
    "    # plot and save predictions to disk\n",
    "    for i in ti+vi:\n",
    "      B = next(iter(mk_loader([i], bs=1, transforms=mkAugs('test'), shuffle=False, cfg=cfg)))\n",
    "      model.eval()\n",
    "      with torch.no_grad(): y = cpu(model(B['image'].to(device)))\n",
    "      B = batch2cpu(B, z=kp2hm(B), y=y)[0]\n",
    "\n",
    "      if (MODE=='release' or (i in vi)):  # plot all validation images (hopefully) once per CFG.param\n",
    "        ax1 = plot.overlay(B.x, B.y, B.m, B.k, B.l, cfg.sigma) \n",
    "        ax2 = plot.diff   (B.y, B.z, B.m, B.k, B.l, cfg.sigma)\n",
    "        ax3 = None\n",
    "\n",
    "        # DECRAP\n",
    "        if cfg.rmbad != 0: \n",
    "          rm = np.argsort(-i2p2L[i])[:int(len(B.l)*cfg.rmbad)]  # type: ignore\n",
    "          ax3 = plot.image(B.x); plot.points(ax3, B.k, B.l)\n",
    "          for a in (ax1, ax2, ax3):\n",
    "            plot.points(a, B.k[rm], B.l[rm], colormap='#00ff00', lw=3)\n",
    "            \n",
    "        if  MODE!='draft': \n",
    "          id = f\"{P}={p}-{imgid(i)}\" if type(ps) is list else imgid(i)\n",
    "          #np.save(f'preds/{id}.npy', y)\n",
    "          plot.save(ax1, f'plots/{id}.pred.png')\n",
    "          plot.save(ax2, f'plots/{id}.diff.png')\n",
    "          if ax3 is not None: plot.save(ax3, f'plots/{id}.points.png')  # DECRAP rmbad?\n",
    "          plt.close('all') # save but don't show\n",
    "  plot_preds()\n",
    "\n",
    "  return log, i2p2L\n",
    "\n",
    "# mode == 2 => aka test augs => no cropping\n",
    "def get_loader(cfg, ti, vi):\n",
    "  loader = lambda m, ids: mk_loader(ids, bs = 1 if m==2 else CFG.batch_size, shuffle=False, cfg=cfg, transforms=mkAugs(m))\n",
    "  return [loader('train', ti), loader('val', vi) if vi is not None and len(vi)>0 else None]\n",
    "kp2hm, yunnorm, _ymax = mk_kp2mh_yunnorm(CFG)\n",
    "\n",
    "model:torch.nn.Module = None # type: ignore\n",
    "_ps = ps if type(ps) is list else [ps]\n",
    "for p in [_ps[-1]] if MODE=='draft' else _ps:\n",
    "  cfg = obj(**(CFG.__dict__ | {P: p}))\n",
    "  if P in ['sigma']: kp2hm, yunnorm, _ymax = mk_kp2mh_yunnorm(cfg)\n",
    "\n",
    "  i2p2L = {}  # DECRAP rmbad?\n",
    "  for ti, vi in data_splits:\n",
    "    cfg = obj(**(cfg.__dict__ | dict(ti=ti, vi=vi)))\n",
    "\n",
    "    traindl, valdl = get_loader(cfg, ti, vi)\n",
    "\n",
    "    match cfg.model_encoder:\n",
    "      case 'timm-efficientnet-b5': \n",
    "        cfg.lr_steps = 1.5\t\n",
    "      case 'timm-mobilenetv3_large_100': \n",
    "        cfg.lr_steps = 1.5\n",
    "        cfg.lr_gamma = 0.2\n",
    "      case 'timm-resnest50d':\n",
    "        cfg.lr_steps = 1.5\n",
    "      case 'xception':\n",
    "        cfg.lr_steps = 1.5\n",
    "      case 'vgg19_bn':\n",
    "        cfg.lr_steps = 1.5\n",
    "\n",
    "    model = mk_model(cfg)(cfg)\n",
    "    try:\n",
    "      log, _i2p2L = training_run(cfg, traindl, valdl, kp2hm, model)\n",
    "    except Exception as e: \n",
    "      print(f\"ERROR: Exception {e.__class__.__name__} in model training (train.training_run). CFG:\\n\", json.dumps(cfg.__dict__, indent=2))\n",
    "      raise e\n",
    "    i2p2L |= _i2p2L  # DECRAP rmbad # NOTE: overrides if image in multiple val sets  \n",
    "    if MODE!='release': del model\n",
    "\n",
    "  # DECRAP\n",
    "  if 'rmbad' in cfg.__dict__ and cfg.rmbad != 0:  # remove the bad points and retrain\n",
    "    keep = {i: np.argsort(-p2L)[int(len(p2L)*cfg.rmbad):] for i,p2L in i2p2L.items()} \n",
    "    \n",
    "    for _i, k in keep.items(): print(f\"DEBUG: keeping {len(k)} of {len(i2p2L[_i])} points for {_i}\")\n",
    "\n",
    "    for ti, vi in data_splits:\n",
    "      cfg = obj(**(cfg.__dict__ | dict(ti=ti, vi=vi, epochs=cfg.epochs//2+1, rmbad=0.1)))\n",
    "\n",
    "      traindl, valdl = get_loader(cfg, ti, vi)\n",
    "\n",
    "      def regen_masks(dl):\n",
    "        ds: CellnetDataset = dl.dataset # type: ignore\n",
    "        ds.P = {i: ds.P[i][keep[i]] for i in ds.P}\n",
    "        ds._generate_masks(fraction=1, sparsity=1)\n",
    "        # regenerate masks, but don't throw away more data (f,s=1)\n",
    "        # NOTE: because we do it for each split repeatedly its a waste of compute. More efficient: to do it once but would need a bigish refactor\n",
    "\n",
    "        for i in ds.P:\n",
    "          ax = plot.overlay(ds.X[i], None, ds.M[i], ds.P[i][:,[0,1]], ds.P[i][:,2], cfg.sigma)\n",
    "          if not MODE=='draft': \n",
    "            plot.save(ax, f'plots/regen_masks-{i}.png')\n",
    "            plt.close(ax.get_figure())\n",
    "      \n",
    "      regen_masks(traindl)\n",
    "      if valdl: regen_masks(valdl)\n",
    "\n",
    "      model = mk_model(cfg)(cfg)   # inefficient to recreate the model but makes code a little simpler and more space safe\n",
    "      log, _i2p2L = training_run(cfg, traindl, valdl, kp2hm, model)"
   ]
  },
  {
   "cell_type": "code",
   "execution_count": 6,
   "id": "b42394b5",
   "metadata": {
    "execution": {
     "iopub.execute_input": "2024-07-25T08:11:11.393957Z",
     "iopub.status.busy": "2024-07-25T08:11:11.393691Z",
     "iopub.status.idle": "2024-07-25T08:11:14.640483Z",
     "shell.execute_reply": "2024-07-25T08:11:14.640025Z"
    }
   },
   "outputs": [
    {
     "name": "stdout",
     "output_type": "stream",
     "text": [
      "Execution time: evaluate_performance was executed 1 times and took 10.039294481277466 seconds on average, in total 10.039294481277466 seconds.\n",
      "Execution time: plot_preds was executed 1 times and took 96.16697692871094 seconds on average, in total 96.16697692871094 seconds.\n"
     ]
    }
   ],
   "source": [
    "# TODO maybe modularize model saving so it can be used to cache models from different experiments from P:ps\n",
    "if MODE=='release': # save model to disk\n",
    "  B = next(iter(mk_loader([CFG.image_paths[0]], cfg=CFG, bs=1, transforms=mkAugs('test'), shuffle=False)))\n",
    "  x = batch2cpu(B)[0].x[None]\n",
    "  \n",
    "  m=model#type: ignore\n",
    "  m.eval()\n",
    "\n",
    "  # save a test in/out\n",
    "  #os.makedirs(cachedir:=os.path.expanduser('~/.cache/cellnet'), exist_ok=True)\n",
    "  #np.save('./model_export_test_x_1.npy', x)\n",
    "  #np.save('./model_export_test_y_1.npy', cpu(m(gpu(x, device=device))))\n",
    "\n",
    "  m.save_pretrained('./model_export')  # specific to master branch of SMP. TODO: make more robust with onnx. But see problem notes in cellnet.yml\n",
    "  os.remove('./model_export/README.md')\n",
    "\n",
    "  settings = (CFG.__dict__ | {'ymax':float(_ymax)})\n",
    "\n",
    "  with open('./model_export/settings.json', 'w') as f:  json.dump(settings, f, indent=2)\n",
    "\n",
    "if type(results[P][0]) == str: results[P] = results[P].apply(lambda s: \"'\"+s+\"'\")\n",
    "results.to_csv('results.csv', index=False, sep=';')\n",
    "\n",
    "debug.print_times()"
   ]
  },
  {
   "cell_type": "code",
   "execution_count": 7,
   "id": "09048f0c",
   "metadata": {
    "execution": {
     "iopub.execute_input": "2024-07-25T08:11:14.642305Z",
     "iopub.status.busy": "2024-07-25T08:11:14.642097Z",
     "iopub.status.idle": "2024-07-25T08:11:14.646033Z",
     "shell.execute_reply": "2024-07-25T08:11:14.645717Z"
    },
    "title": "# independently load and plot results"
   },
   "outputs": [],
   "source": [
    "if MODE != 'release':  # HACK, fix this\n",
    "  from cellnet import plot\n",
    "  from cellnet.data import key2text\n",
    "  from io import StringIO\n",
    "  import ast, csv, pandas as pd\n",
    "\n",
    "  ## TODO those nans\n",
    "  with open('results.csv', 'r') as f:\n",
    "    nan = \"0\"\n",
    "    s = f.read().replace('nan', nan).replace('NaN', nan).strip()\n",
    "    while \";;\"  in s: s = s.replace(\";;\", \";\"+nan+\";\")\n",
    "    while \";\\n\" in s: s = s.replace(\";\\n\", \";\"+nan+\"\\n\")\n",
    "    while \"\\n;\" in s: s = s.replace(\"\\n;\", \"\\n\"+nan+\";\")\n",
    "    if s[-1] == \";\": s = s + nan\n",
    "    if s[0] == \";\": s = nan + s\n",
    "\n",
    "  cols = pd.read_csv(StringIO(s), sep=';').columns\n",
    "  R = pd.read_csv(StringIO(s), sep=';', converters={col:ast.literal_eval for col in cols})\n",
    "  R.rename(columns=dict(vi=key2text['vi']), inplace=True)\n",
    "  plot.regplot(R, R.columns[0], key2text)"
   ]
  }
 ],
 "metadata": {
  "jupytext": {
   "cell_metadata_filter": "title,-all"
  },
  "kernelspec": {
   "display_name": "Python 3 (ipykernel)",
   "language": "python",
   "name": "python3"
  },
  "language_info": {
   "codemirror_mode": {
    "name": "ipython",
    "version": 3
   },
   "file_extension": ".py",
   "mimetype": "text/x-python",
   "name": "python",
   "nbconvert_exporter": "python",
   "pygments_lexer": "ipython3",
   "version": "3.12.1"
  }
 },
 "nbformat": 4,
 "nbformat_minor": 5
}
