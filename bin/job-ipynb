#!/bin/bash
#SBATCH -J ipynb
#SBATCH -o _____________%j-RUNNING
#SBATCH --ntasks=1
#SBATCH -t 12:00:00
#SBATCH --cpus-per-task=8
#SBATCH --mem=40G
#SBATCH --partition=gpu
#SBATCH --gres=gpu:tesla:1
# NOTE: adapt these to your HPC


NAME="$1"; INDIR="$2"; INPUT="$3"; OUTDIR="$4"; EXPERIMENT="$5"; RELEASE_MODE="$6"

if [ "$INDIR" =  "" ]; then INDIR="."; fi
#if [ "$INDIR" = "." ]
#then ENV="$NAME" 
#else ENV="$(basename "$INDIR")"; fi
ENV=cellnet

echo -e "  ===  RUNNING $INDIR/$NAME ($EXPERIMENT) at $(date) ===  "

nvidia-smi

bin/init_conda "$ENV" || bin/init_conda cellnet


TIMESTAMPFILE="$OUTDIR/TIMESTAMP"
touch "$TIMESTAMPFILE"
SECONDS=0

export EXPERIMENT="$EXPERIMENT"
export RELEASE_MODE="$RELEASE_MODE"
jupytext --to notebook --execute -o "$OUTDIR/$NAME.ipynb" "$INPUT"

duration="$SECONDS"
RUNTIME="$(date -ud "@$duration" +%H%M%S)"
echo -e "\n> Notebook execution time (hhmmss) $RUNTIME"

if [ -f "$OUTDIR/$NAME.ipynb" ]; then rm "$INPUT"; fi
find "$OUTDIR" ! -newer "$TIMESTAMPFILE" ! -wholename "$TIMESTAMPFILE" ! -wholename "$INPUT" -delete 2>/dev/null
find "$OUTDIR" -name '*.pyc' -delete 2>/dev/null
find "$OUTDIR" -depth -type d -empty -delete 2>/dev/null
rm -rf "$OUTDIR/.cache"
rm "$TIMESTAMPFILE"

mv "_____________$SLURM_JOBID-RUNNING" "$OUTDIR/$SLURM_JOBID-$RUNTIME.log"

mv "$OUTDIR" "${OUTDIR%"-RUNNING"}"
